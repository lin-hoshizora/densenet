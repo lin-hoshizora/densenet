{
 "cells": [
  {
   "cell_type": "code",
   "execution_count": null,
   "metadata": {},
   "outputs": [],
   "source": [
    "import os\n",
    "os.environ[\"CUDA_VISIBLE_DEVICES\"] = \"\"\n",
    "\n",
    "import pickle\n",
    "import tensorflow as tf\n",
    "from tensorflow import keras\n",
    "import cv2\n",
    "import numpy as np\n",
    "import matplotlib.pyplot as plt\n",
    "from crnn.models import crnn\n",
    "from crnn.utils import load_conf"
   ]
  },
  {
   "cell_type": "code",
   "execution_count": null,
   "metadata": {},
   "outputs": [],
   "source": [
    "conf = load_conf(\"./conf/crnn.yaml\")"
   ]
  },
  {
   "cell_type": "code",
   "execution_count": null,
   "metadata": {},
   "outputs": [],
   "source": [
    "conf"
   ]
  },
  {
   "cell_type": "code",
   "execution_count": 51,
   "metadata": {},
   "outputs": [],
   "source": [
    "keras.backend.clear_session()\n",
    "model = crnn(conf[\"options\"], train=False, infer_shape=(64, 1024, 3))"
   ]
  },
  {
   "cell_type": "code",
   "execution_count": 52,
   "metadata": {},
   "outputs": [
    {
     "name": "stdout",
     "output_type": "stream",
     "text": [
      "Model: \"model\"\n",
      "__________________________________________________________________________________________________\n",
      "Layer (type)                    Output Shape         Param #     Connected to                     \n",
      "==================================================================================================\n",
      "image (InputLayer)              [(None, 64, 1024, 3) 0                                            \n",
      "__________________________________________________________________________________________________\n",
      "rescaling (Rescaling)           (None, 64, 1024, 3)  0           image[0][0]                      \n",
      "__________________________________________________________________________________________________\n",
      "Conv (Conv2D)                   (None, 32, 512, 16)  432         rescaling[0][0]                  \n",
      "__________________________________________________________________________________________________\n",
      "Conv/BatchNorm (BatchNormalizat (None, 32, 512, 16)  64          Conv[0][0]                       \n",
      "__________________________________________________________________________________________________\n",
      "re_lu (ReLU)                    (None, 32, 512, 16)  0           Conv/BatchNorm[0][0]             \n",
      "__________________________________________________________________________________________________\n",
      "expanded_conv/depthwise (Depthw (None, 32, 512, 16)  144         re_lu[0][0]                      \n",
      "__________________________________________________________________________________________________\n",
      "expanded_conv/depthwise/BatchNo (None, 32, 512, 16)  64          expanded_conv/depthwise[0][0]    \n",
      "__________________________________________________________________________________________________\n",
      "re_lu_1 (ReLU)                  (None, 32, 512, 16)  0           expanded_conv/depthwise/BatchNorm\n",
      "__________________________________________________________________________________________________\n",
      "expanded_conv/project (Conv2D)  (None, 32, 512, 16)  256         re_lu_1[0][0]                    \n",
      "__________________________________________________________________________________________________\n",
      "expanded_conv/project/BatchNorm (None, 32, 512, 16)  64          expanded_conv/project[0][0]      \n",
      "__________________________________________________________________________________________________\n",
      "expanded_conv/Add (Add)         (None, 32, 512, 16)  0           re_lu[0][0]                      \n",
      "                                                                 expanded_conv/project/BatchNorm[0\n",
      "__________________________________________________________________________________________________\n",
      "expanded_conv_1/expand (Conv2D) (None, 32, 512, 64)  1024        expanded_conv/Add[0][0]          \n",
      "__________________________________________________________________________________________________\n",
      "expanded_conv_1/expand/BatchNor (None, 32, 512, 64)  256         expanded_conv_1/expand[0][0]     \n",
      "__________________________________________________________________________________________________\n",
      "re_lu_2 (ReLU)                  (None, 32, 512, 64)  0           expanded_conv_1/expand/BatchNorm[\n",
      "__________________________________________________________________________________________________\n",
      "expanded_conv_1/depthwise/pad ( (None, 33, 513, 64)  0           re_lu_2[0][0]                    \n",
      "__________________________________________________________________________________________________\n",
      "expanded_conv_1/depthwise (Dept (None, 16, 256, 64)  576         expanded_conv_1/depthwise/pad[0][\n",
      "__________________________________________________________________________________________________\n",
      "expanded_conv_1/depthwise/Batch (None, 16, 256, 64)  256         expanded_conv_1/depthwise[0][0]  \n",
      "__________________________________________________________________________________________________\n",
      "re_lu_3 (ReLU)                  (None, 16, 256, 64)  0           expanded_conv_1/depthwise/BatchNo\n",
      "__________________________________________________________________________________________________\n",
      "expanded_conv_1/project (Conv2D (None, 16, 256, 24)  1536        re_lu_3[0][0]                    \n",
      "__________________________________________________________________________________________________\n",
      "expanded_conv_1/project/BatchNo (None, 16, 256, 24)  96          expanded_conv_1/project[0][0]    \n",
      "__________________________________________________________________________________________________\n",
      "expanded_conv_2/expand (Conv2D) (None, 16, 256, 72)  1728        expanded_conv_1/project/BatchNorm\n",
      "__________________________________________________________________________________________________\n",
      "expanded_conv_2/expand/BatchNor (None, 16, 256, 72)  288         expanded_conv_2/expand[0][0]     \n",
      "__________________________________________________________________________________________________\n",
      "re_lu_4 (ReLU)                  (None, 16, 256, 72)  0           expanded_conv_2/expand/BatchNorm[\n",
      "__________________________________________________________________________________________________\n",
      "expanded_conv_2/depthwise (Dept (None, 16, 256, 72)  648         re_lu_4[0][0]                    \n",
      "__________________________________________________________________________________________________\n",
      "expanded_conv_2/depthwise/Batch (None, 16, 256, 72)  288         expanded_conv_2/depthwise[0][0]  \n",
      "__________________________________________________________________________________________________\n",
      "re_lu_5 (ReLU)                  (None, 16, 256, 72)  0           expanded_conv_2/depthwise/BatchNo\n",
      "__________________________________________________________________________________________________\n",
      "expanded_conv_2/project (Conv2D (None, 16, 256, 24)  1728        re_lu_5[0][0]                    \n",
      "__________________________________________________________________________________________________\n",
      "expanded_conv_2/project/BatchNo (None, 16, 256, 24)  96          expanded_conv_2/project[0][0]    \n",
      "__________________________________________________________________________________________________\n",
      "expanded_conv_2/Add (Add)       (None, 16, 256, 24)  0           expanded_conv_1/project/BatchNorm\n",
      "                                                                 expanded_conv_2/project/BatchNorm\n",
      "__________________________________________________________________________________________________\n",
      "expanded_conv_3/expand (Conv2D) (None, 16, 256, 72)  1728        expanded_conv_2/Add[0][0]        \n",
      "__________________________________________________________________________________________________\n",
      "expanded_conv_3/expand/BatchNor (None, 16, 256, 72)  288         expanded_conv_3/expand[0][0]     \n",
      "__________________________________________________________________________________________________\n",
      "re_lu_6 (ReLU)                  (None, 16, 256, 72)  0           expanded_conv_3/expand/BatchNorm[\n",
      "__________________________________________________________________________________________________\n",
      "expanded_conv_3/depthwise/pad ( (None, 17, 257, 72)  0           re_lu_6[0][0]                    \n",
      "__________________________________________________________________________________________________\n",
      "expanded_conv_3/depthwise (Dept (None, 8, 128, 72)   648         expanded_conv_3/depthwise/pad[0][\n",
      "__________________________________________________________________________________________________\n",
      "expanded_conv_3/depthwise/Batch (None, 8, 128, 72)   288         expanded_conv_3/depthwise[0][0]  \n",
      "__________________________________________________________________________________________________\n",
      "re_lu_7 (ReLU)                  (None, 8, 128, 72)   0           expanded_conv_3/depthwise/BatchNo\n",
      "__________________________________________________________________________________________________\n",
      "expanded_conv_3/project (Conv2D (None, 8, 128, 40)   2880        re_lu_7[0][0]                    \n",
      "__________________________________________________________________________________________________\n",
      "expanded_conv_3/project/BatchNo (None, 8, 128, 40)   160         expanded_conv_3/project[0][0]    \n",
      "__________________________________________________________________________________________________\n",
      "expanded_conv_4/expand (Conv2D) (None, 8, 128, 120)  4800        expanded_conv_3/project/BatchNorm\n",
      "__________________________________________________________________________________________________\n",
      "expanded_conv_4/expand/BatchNor (None, 8, 128, 120)  480         expanded_conv_4/expand[0][0]     \n",
      "__________________________________________________________________________________________________\n",
      "re_lu_8 (ReLU)                  (None, 8, 128, 120)  0           expanded_conv_4/expand/BatchNorm[\n",
      "__________________________________________________________________________________________________\n",
      "expanded_conv_4/depthwise (Dept (None, 8, 128, 120)  1080        re_lu_8[0][0]                    \n",
      "__________________________________________________________________________________________________\n",
      "expanded_conv_4/depthwise/Batch (None, 8, 128, 120)  480         expanded_conv_4/depthwise[0][0]  \n",
      "__________________________________________________________________________________________________\n",
      "re_lu_9 (ReLU)                  (None, 8, 128, 120)  0           expanded_conv_4/depthwise/BatchNo\n",
      "__________________________________________________________________________________________________\n",
      "expanded_conv_4/project (Conv2D (None, 8, 128, 40)   4800        re_lu_9[0][0]                    \n",
      "__________________________________________________________________________________________________\n",
      "expanded_conv_4/project/BatchNo (None, 8, 128, 40)   160         expanded_conv_4/project[0][0]    \n",
      "__________________________________________________________________________________________________\n",
      "expanded_conv_4/Add (Add)       (None, 8, 128, 40)   0           expanded_conv_3/project/BatchNorm\n",
      "                                                                 expanded_conv_4/project/BatchNorm\n",
      "__________________________________________________________________________________________________\n",
      "expanded_conv_5/expand (Conv2D) (None, 8, 128, 120)  4800        expanded_conv_4/Add[0][0]        \n",
      "__________________________________________________________________________________________________\n",
      "expanded_conv_5/expand/BatchNor (None, 8, 128, 120)  480         expanded_conv_5/expand[0][0]     \n",
      "__________________________________________________________________________________________________\n",
      "re_lu_10 (ReLU)                 (None, 8, 128, 120)  0           expanded_conv_5/expand/BatchNorm[\n",
      "__________________________________________________________________________________________________\n",
      "expanded_conv_5/depthwise (Dept (None, 8, 128, 120)  1080        re_lu_10[0][0]                   \n",
      "__________________________________________________________________________________________________\n",
      "expanded_conv_5/depthwise/Batch (None, 8, 128, 120)  480         expanded_conv_5/depthwise[0][0]  \n",
      "__________________________________________________________________________________________________\n",
      "re_lu_11 (ReLU)                 (None, 8, 128, 120)  0           expanded_conv_5/depthwise/BatchNo\n",
      "__________________________________________________________________________________________________\n",
      "expanded_conv_5/project (Conv2D (None, 8, 128, 40)   4800        re_lu_11[0][0]                   \n",
      "__________________________________________________________________________________________________\n",
      "expanded_conv_5/project/BatchNo (None, 8, 128, 40)   160         expanded_conv_5/project[0][0]    \n",
      "__________________________________________________________________________________________________\n",
      "expanded_conv_5/Add (Add)       (None, 8, 128, 40)   0           expanded_conv_4/Add[0][0]        \n",
      "                                                                 expanded_conv_5/project/BatchNorm\n",
      "__________________________________________________________________________________________________\n",
      "expanded_conv_6/expand (Conv2D) (None, 8, 128, 240)  9600        expanded_conv_5/Add[0][0]        \n",
      "__________________________________________________________________________________________________\n",
      "expanded_conv_6/expand/BatchNor (None, 8, 128, 240)  960         expanded_conv_6/expand[0][0]     \n",
      "__________________________________________________________________________________________________\n",
      "re_lu_12 (ReLU)                 (None, 8, 128, 240)  0           expanded_conv_6/expand/BatchNorm[\n",
      "__________________________________________________________________________________________________\n",
      "expanded_conv_6/depthwise/pad ( (None, 9, 129, 240)  0           re_lu_12[0][0]                   \n",
      "__________________________________________________________________________________________________\n",
      "expanded_conv_6/depthwise (Dept (None, 4, 64, 240)   2160        expanded_conv_6/depthwise/pad[0][\n",
      "__________________________________________________________________________________________________\n",
      "expanded_conv_6/depthwise/Batch (None, 4, 64, 240)   960         expanded_conv_6/depthwise[0][0]  \n",
      "__________________________________________________________________________________________________\n",
      "re_lu_13 (ReLU)                 (None, 4, 64, 240)   0           expanded_conv_6/depthwise/BatchNo\n",
      "__________________________________________________________________________________________________\n",
      "expanded_conv_6/project (Conv2D (None, 4, 64, 80)    19200       re_lu_13[0][0]                   \n",
      "__________________________________________________________________________________________________\n",
      "expanded_conv_6/project/BatchNo (None, 4, 64, 80)    320         expanded_conv_6/project[0][0]    \n",
      "__________________________________________________________________________________________________\n",
      "expanded_conv_7/expand (Conv2D) (None, 4, 64, 200)   16000       expanded_conv_6/project/BatchNorm\n",
      "__________________________________________________________________________________________________\n",
      "expanded_conv_7/expand/BatchNor (None, 4, 64, 200)   800         expanded_conv_7/expand[0][0]     \n",
      "__________________________________________________________________________________________________\n",
      "re_lu_14 (ReLU)                 (None, 4, 64, 200)   0           expanded_conv_7/expand/BatchNorm[\n",
      "__________________________________________________________________________________________________\n",
      "expanded_conv_7/depthwise (Dept (None, 4, 64, 200)   1800        re_lu_14[0][0]                   \n",
      "__________________________________________________________________________________________________\n",
      "expanded_conv_7/depthwise/Batch (None, 4, 64, 200)   800         expanded_conv_7/depthwise[0][0]  \n",
      "__________________________________________________________________________________________________\n",
      "re_lu_15 (ReLU)                 (None, 4, 64, 200)   0           expanded_conv_7/depthwise/BatchNo\n",
      "__________________________________________________________________________________________________\n",
      "expanded_conv_7/project (Conv2D (None, 4, 64, 80)    16000       re_lu_15[0][0]                   \n",
      "__________________________________________________________________________________________________\n",
      "expanded_conv_7/project/BatchNo (None, 4, 64, 80)    320         expanded_conv_7/project[0][0]    \n",
      "__________________________________________________________________________________________________\n",
      "expanded_conv_7/Add (Add)       (None, 4, 64, 80)    0           expanded_conv_6/project/BatchNorm\n",
      "                                                                 expanded_conv_7/project/BatchNorm\n",
      "__________________________________________________________________________________________________\n",
      "expanded_conv_8/expand (Conv2D) (None, 4, 64, 184)   14720       expanded_conv_7/Add[0][0]        \n",
      "__________________________________________________________________________________________________\n",
      "expanded_conv_8/expand/BatchNor (None, 4, 64, 184)   736         expanded_conv_8/expand[0][0]     \n",
      "__________________________________________________________________________________________________\n",
      "re_lu_16 (ReLU)                 (None, 4, 64, 184)   0           expanded_conv_8/expand/BatchNorm[\n",
      "__________________________________________________________________________________________________\n",
      "expanded_conv_8/depthwise (Dept (None, 4, 64, 184)   1656        re_lu_16[0][0]                   \n",
      "__________________________________________________________________________________________________\n",
      "expanded_conv_8/depthwise/Batch (None, 4, 64, 184)   736         expanded_conv_8/depthwise[0][0]  \n",
      "__________________________________________________________________________________________________\n",
      "re_lu_17 (ReLU)                 (None, 4, 64, 184)   0           expanded_conv_8/depthwise/BatchNo\n",
      "__________________________________________________________________________________________________\n",
      "expanded_conv_8/project (Conv2D (None, 4, 64, 80)    14720       re_lu_17[0][0]                   \n",
      "__________________________________________________________________________________________________\n",
      "expanded_conv_8/project/BatchNo (None, 4, 64, 80)    320         expanded_conv_8/project[0][0]    \n",
      "__________________________________________________________________________________________________\n",
      "expanded_conv_8/Add (Add)       (None, 4, 64, 80)    0           expanded_conv_7/Add[0][0]        \n",
      "                                                                 expanded_conv_8/project/BatchNorm\n",
      "__________________________________________________________________________________________________\n",
      "expanded_conv_9/expand (Conv2D) (None, 4, 64, 184)   14720       expanded_conv_8/Add[0][0]        \n",
      "__________________________________________________________________________________________________\n",
      "expanded_conv_9/expand/BatchNor (None, 4, 64, 184)   736         expanded_conv_9/expand[0][0]     \n",
      "__________________________________________________________________________________________________\n",
      "re_lu_18 (ReLU)                 (None, 4, 64, 184)   0           expanded_conv_9/expand/BatchNorm[\n",
      "__________________________________________________________________________________________________\n",
      "expanded_conv_9/depthwise (Dept (None, 4, 64, 184)   1656        re_lu_18[0][0]                   \n",
      "__________________________________________________________________________________________________\n",
      "expanded_conv_9/depthwise/Batch (None, 4, 64, 184)   736         expanded_conv_9/depthwise[0][0]  \n",
      "__________________________________________________________________________________________________\n",
      "re_lu_19 (ReLU)                 (None, 4, 64, 184)   0           expanded_conv_9/depthwise/BatchNo\n",
      "__________________________________________________________________________________________________\n",
      "expanded_conv_9/project (Conv2D (None, 4, 64, 80)    14720       re_lu_19[0][0]                   \n",
      "__________________________________________________________________________________________________\n",
      "expanded_conv_9/project/BatchNo (None, 4, 64, 80)    320         expanded_conv_9/project[0][0]    \n",
      "__________________________________________________________________________________________________\n",
      "expanded_conv_9/Add (Add)       (None, 4, 64, 80)    0           expanded_conv_8/Add[0][0]        \n",
      "                                                                 expanded_conv_9/project/BatchNorm\n",
      "__________________________________________________________________________________________________\n",
      "expanded_conv_10/expand (Conv2D (None, 4, 64, 480)   38400       expanded_conv_9/Add[0][0]        \n",
      "__________________________________________________________________________________________________\n",
      "expanded_conv_10/expand/BatchNo (None, 4, 64, 480)   1920        expanded_conv_10/expand[0][0]    \n",
      "__________________________________________________________________________________________________\n",
      "re_lu_20 (ReLU)                 (None, 4, 64, 480)   0           expanded_conv_10/expand/BatchNorm\n",
      "__________________________________________________________________________________________________\n",
      "expanded_conv_10/depthwise (Dep (None, 4, 64, 480)   4320        re_lu_20[0][0]                   \n",
      "__________________________________________________________________________________________________\n",
      "expanded_conv_10/depthwise/Batc (None, 4, 64, 480)   1920        expanded_conv_10/depthwise[0][0] \n",
      "__________________________________________________________________________________________________\n",
      "re_lu_21 (ReLU)                 (None, 4, 64, 480)   0           expanded_conv_10/depthwise/BatchN\n",
      "__________________________________________________________________________________________________\n",
      "expanded_conv_10/project (Conv2 (None, 4, 64, 112)   53760       re_lu_21[0][0]                   \n",
      "__________________________________________________________________________________________________\n",
      "expanded_conv_10/project/BatchN (None, 4, 64, 112)   448         expanded_conv_10/project[0][0]   \n",
      "__________________________________________________________________________________________________\n",
      "expanded_conv_11/expand (Conv2D (None, 4, 64, 672)   75264       expanded_conv_10/project/BatchNor\n",
      "__________________________________________________________________________________________________\n",
      "expanded_conv_11/expand/BatchNo (None, 4, 64, 672)   2688        expanded_conv_11/expand[0][0]    \n",
      "__________________________________________________________________________________________________\n",
      "re_lu_22 (ReLU)                 (None, 4, 64, 672)   0           expanded_conv_11/expand/BatchNorm\n",
      "__________________________________________________________________________________________________\n",
      "expanded_conv_11/depthwise (Dep (None, 4, 64, 672)   6048        re_lu_22[0][0]                   \n",
      "__________________________________________________________________________________________________\n",
      "expanded_conv_11/depthwise/Batc (None, 4, 64, 672)   2688        expanded_conv_11/depthwise[0][0] \n",
      "__________________________________________________________________________________________________\n",
      "re_lu_23 (ReLU)                 (None, 4, 64, 672)   0           expanded_conv_11/depthwise/BatchN\n",
      "__________________________________________________________________________________________________\n",
      "expanded_conv_11/project (Conv2 (None, 4, 64, 112)   75264       re_lu_23[0][0]                   \n",
      "__________________________________________________________________________________________________\n",
      "expanded_conv_11/project/BatchN (None, 4, 64, 112)   448         expanded_conv_11/project[0][0]   \n",
      "__________________________________________________________________________________________________\n",
      "expanded_conv_11/Add (Add)      (None, 4, 64, 112)   0           expanded_conv_10/project/BatchNor\n",
      "                                                                 expanded_conv_11/project/BatchNor\n",
      "__________________________________________________________________________________________________\n",
      "separable_conv2d (SeparableConv (None, 1, 64, 7550)  853598      expanded_conv_11/Add[0][0]       \n",
      "__________________________________________________________________________________________________\n",
      "logits (Lambda)                 (None, 64, 7550)     0           separable_conv2d[0][0]           \n",
      "__________________________________________________________________________________________________\n",
      "probs (Softmax)                 (None, 64, 7550)     0           logits[0][0]                     \n",
      "==================================================================================================\n",
      "Total params: 1,290,598\n",
      "Trainable params: 1,279,446\n",
      "Non-trainable params: 11,152\n",
      "__________________________________________________________________________________________________\n"
     ]
    }
   ],
   "source": [
    "model.summary()\n",
    "# model.output"
   ]
  },
  {
   "cell_type": "code",
   "execution_count": 53,
   "metadata": {},
   "outputs": [
    {
     "data": {
      "text/plain": [
       "<tensorflow.python.training.tracking.util.CheckpointLoadStatus at 0x7fde305f06d0>"
      ]
     },
     "execution_count": 53,
     "metadata": {},
     "output_type": "execute_result"
    }
   ],
   "source": [
    "model.load_weights(\"./ckpt/mobilev3L-64.0-myna/mobilev3L-64.0-17.ckpt\")"
   ]
  },
  {
   "cell_type": "code",
   "execution_count": null,
   "metadata": {},
   "outputs": [],
   "source": [
    "def resize_pad(img, h, w):\n",
    "    w_new = int(h / img.shape[0] * img.shape[1])\n",
    "    img = cv2.resize(img, (w_new, h), cv2.INTER_AREA)\n",
    "    if img.shape[1] >= w: return img[:, :w], w // 16\n",
    "    padded = np.zeros((h, w, 3)).astype(img.dtype)\n",
    "    padded[:, :img.shape[1]] = img\n",
    "    return padded, img.shape[1] // 16"
   ]
  },
  {
   "cell_type": "code",
   "execution_count": 83,
   "metadata": {},
   "outputs": [
    {
     "data": {
      "image/png": "[encoded data removed]",
      "text/plain": [
       "<Figure size 432x288 with 1 Axes>"
      ]
     },
     "metadata": {
      "needs_background": "light"
     },
     "output_type": "display_data"
    },
    {
     "name": "stdout",
     "output_type": "stream",
     "text": [
      "34\n"
     ]
    },
    {
     "data": {
      "image/png": "[encoded data removed]",
      "text/plain": [
       "<Figure size 432x288 with 1 Axes>"
      ]
     },
     "metadata": {
      "needs_background": "light"
     },
     "output_type": "display_data"
    }
   ],
   "source": [
    "plt.imshow(plt.imread(\"./data/1.jpg\"))\n",
    "plt.show()\n",
    "img, input_len = resize_pad(plt.imread(\"./data/1.jpg\"), 64, 1024)\n",
    "plt.imshow(img)\n",
    "print(input_len)"
   ]
  },
  {
   "cell_type": "code",
   "execution_count": 55,
   "metadata": {},
   "outputs": [],
   "source": [
    "with open(\"./id2char_std.pkl\", \"rb\") as f:\n",
    "    id2char = pickle.load(f)"
   ]
  },
  {
   "cell_type": "code",
   "execution_count": 81,
   "metadata": {},
   "outputs": [],
   "source": [
    "def decode(logits):\n",
    "    probs = tf.nn.softmax(logits, axis=-1)\n",
    "    print(probs.shape)\n",
    "    decoded = keras.backend.ctc_decode(probs, input_length=[input_len])\n",
    "    print(decoded)\n",
    "    text = \"\".join([id2char[x] for x in decoded[0][0].numpy()[0] if x != -1])\n",
    "    return text"
   ]
  },
  {
   "cell_type": "code",
   "execution_count": 82,
   "metadata": {},
   "outputs": [
    {
     "name": "stdout",
     "output_type": "stream",
     "text": [
      "(1, 64, 7550)\n",
      "([<tf.Tensor: shape=(1, 64), dtype=int64, numpy=\n",
      "array([[131,   6,  39, 197,  60,  43,  34,  42, 197,   1,   6, 177,  -1,\n",
      "         -1,  -1,  -1,  -1,  -1,  -1,  -1,  -1,  -1,  -1,  -1,  -1,  -1,\n",
      "         -1,  -1,  -1,  -1,  -1,  -1,  -1,  -1,  -1,  -1,  -1,  -1,  -1,\n",
      "         -1,  -1,  -1,  -1,  -1,  -1,  -1,  -1,  -1,  -1,  -1,  -1,  -1,\n",
      "         -1,  -1,  -1,  -1,  -1,  -1,  -1,  -1,  -1,  -1,  -1,  -1]])>], <tf.Tensor: shape=(1, 1), dtype=float32, numpy=array([[269.63715]], dtype=float32)>)\n"
     ]
    },
    {
     "data": {
      "text/plain": [
       "'所２０年昭和５６年１２月'"
      ]
     },
     "execution_count": 82,
     "metadata": {},
     "output_type": "execute_result"
    }
   ],
   "source": [
    "logits = model.predict(img[np.newaxis, ...])\n",
    "# print(logits)\n",
    "\n",
    "decode(logits)\n",
    "# probs = tf.nn.softmax(logits,axis=-1)\n",
    "# probs.numpy().shape\n"
   ]
  },
  {
   "cell_type": "markdown",
   "metadata": {},
   "source": [
    "# Save for inference"
   ]
  },
  {
   "cell_type": "code",
   "execution_count": null,
   "metadata": {},
   "outputs": [],
   "source": [
    "INPUT_SHAPE = (64, 1408, 3)\n",
    "# INPUT_SHAPE = (64, 1024, 3)\n",
    "# INPUT_SHAPE = (64, 192, 3)\n",
    "\n",
    "keras.backend.clear_session()\n",
    "\n",
    "conf = load_conf(\"./conf/crnn.yaml\")\n",
    "model = crnn(conf[\"options\"], train=False, infer_shape=INPUT_SHAPE, include_softmax=True)\n",
    "model.load_weights(\"./ckpt/mobilev3L-64.0-myna/mobilev3L-64.0-17.ckpt\")\n",
    "\n",
    "model.save(f\"./saved_models/crnn{INPUT_SHAPE[1]}\")"
   ]
  },
  {
   "cell_type": "code",
   "execution_count": null,
   "metadata": {},
   "outputs": [],
   "source": [
    "# model.summary()"
   ]
  },
  {
   "cell_type": "code",
   "execution_count": null,
   "metadata": {},
   "outputs": [],
   "source": []
  }
 ],
 "metadata": {
  "kernelspec": {
   "display_name": "Python 3",
   "language": "python",
   "name": "python3"
  },
  "language_info": {
   "codemirror_mode": {
    "name": "ipython",
    "version": 3
   },
   "file_extension": ".py",
   "mimetype": "text/x-python",
   "name": "python",
   "nbconvert_exporter": "python",
   "pygments_lexer": "ipython3",
   "version": "3.8.5"
  }
 },
 "nbformat": 4,
 "nbformat_minor": 4
}
