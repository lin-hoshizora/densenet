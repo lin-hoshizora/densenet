{
 "cells": [
  {
   "cell_type": "code",
   "execution_count": 1,
   "metadata": {},
   "outputs": [],
   "source": [
    "import os\n",
    "os.environ[\"CUDA_VISIBLE_DEVICES\"] = \"\"\n",
    "import tensorflow as tf\n",
    "from model import get_model"
   ]
  },
  {
   "cell_type": "code",
   "execution_count": 2,
   "metadata": {},
   "outputs": [
    {
     "data": {
      "text/plain": [
       "<tensorflow.python.training.tracking.util.CheckpointLoadStatus at 0x7f70d80bd6d0>"
      ]
     },
     "execution_count": 2,
     "metadata": {},
     "output_type": "execute_result"
    }
   ],
   "source": [
    "input_shape = (64, 704 * 2, 3)\n",
    "input_shape = (64, 512 * 2, 3)\n",
    "input_shape = (64, 96 * 2, 3)\n",
    "# epoch = 7\n",
    "# epoch = 8\n",
    "epoch = 17\n",
    "\n",
    "model = get_model(infer=True, input_shape=input_shape)\n",
    "# model.load_weights(f\"./ckpt/mobilev3L-64.0/until_e13/mobilev3L-64.0-{epoch}.ckpt\")\n",
    "# model.load_weights(f\"./ckpt/mobilev3L-64.0/mobilev3L-64.0-0{epoch}.ckpt\")\n",
    "# model.load_weights(f\"./ckpt/mobilev3L-64.0-mincho-finetune-leak/mobilev3L-64.0-08.ckpt\")\n",
    "model.load_weights(f\"./ckpt/mobilev3L-64.0-myna/mobilev3L-64.0-{epoch}.ckpt\")"
   ]
  },
  {
   "cell_type": "code",
   "execution_count": 3,
   "metadata": {},
   "outputs": [
    {
     "data": {
      "text/plain": [
       "(64, 192, 3)"
      ]
     },
     "execution_count": 3,
     "metadata": {},
     "output_type": "execute_result"
    }
   ],
   "source": [
    "input_shape"
   ]
  },
  {
   "cell_type": "code",
   "execution_count": 4,
   "metadata": {},
   "outputs": [
    {
     "name": "stdout",
     "output_type": "stream",
     "text": [
      "INFO:tensorflow:Assets written to: /tmp/tmppayflen2/assets\n"
     ]
    }
   ],
   "source": [
    "converter = tf.lite.TFLiteConverter.from_keras_model(model)\n",
    "model_tflite = converter.convert()\n",
    "with open(f\"recog_{input_shape[0]}_{input_shape[1]}_e{epoch}.tflite\", \"wb\") as f:\n",
    "    f.write(model_tflite)"
   ]
  },
  {
   "cell_type": "code",
   "execution_count": null,
   "metadata": {},
   "outputs": [],
   "source": []
  }
 ],
 "metadata": {
  "kernelspec": {
   "display_name": "Python 3",
   "language": "python",
   "name": "python3"
  },
  "language_info": {
   "codemirror_mode": {
    "name": "ipython",
    "version": 3
   },
   "file_extension": ".py",
   "mimetype": "text/x-python",
   "name": "python",
   "nbconvert_exporter": "python",
   "pygments_lexer": "ipython3",
   "version": "3.8.1"
  }
 },
 "nbformat": 4,
 "nbformat_minor": 4
}
