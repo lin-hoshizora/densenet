{
 "cells": [
  {
   "cell_type": "code",
   "execution_count": 6,
   "id": "disciplinary-newspaper",
   "metadata": {},
   "outputs": [],
   "source": [
    "from crnn.models import crnn\n",
    "from crnn.utils import load_conf\n",
    "import tensorflow.keras as keras\n",
    "import tensorflow as tf\n",
    "from pathlib import Path"
   ]
  },
  {
   "cell_type": "code",
   "execution_count": 2,
   "id": "fleet-prize",
   "metadata": {},
   "outputs": [],
   "source": [
    "class CTCLayer(keras.layers.Layer):\n",
    "    \"\"\"\n",
    "    A dumb layer to calculate CTC loss and edit distance\n",
    "    \"\"\"\n",
    "    def __call__(self, labels, logits, input_length, label_length):\n",
    "        input_length = tf.cast(input_length, tf.int32)\n",
    "        label_length = tf.cast(label_length, tf.int32)\n",
    "        loss = keras.backend.ctc_batch_cost(\n",
    "            labels, tf.nn.softmax(logits, axis=-1), input_length[:, tf.newaxis], label_length[:, tf.newaxis]\n",
    "        )\n",
    "        self.add_loss(tf.reduce_mean(loss))\n",
    "        decoded, neg_sum_logits = tf.nn.ctc_greedy_decoder(tf.transpose(logits, [1, 0, 2]), sequence_length=input_length)\n",
    "        label_sparse = keras.backend.ctc_label_dense_to_sparse(labels, label_length)\n",
    "        edit_distance = tf.edit_distance(decoded[0], label_sparse)\n",
    "        self.add_metric(tf.reduce_mean(edit_distance), name='edit_distance', aggregation='mean')\n",
    "        return logits"
   ]
  },
  {
   "cell_type": "code",
   "execution_count": 3,
   "id": "limiting-machinery",
   "metadata": {},
   "outputs": [
    {
     "data": {
      "text/plain": [
       "{'input_shape': [None, None, 3],\n",
       " 'backbone': 'mobilev3_large_mini',\n",
       " 'kernel_init': 'he_normal',\n",
       " 'feature_layer': 'expanded_conv_11/Add',\n",
       " 'n_class': 7550}"
      ]
     },
     "execution_count": 3,
     "metadata": {},
     "output_type": "execute_result"
    }
   ],
   "source": [
    "conf = load_conf(\"./conf/crnn.yaml\")\n",
    "conf = conf['options']\n",
    "conf"
   ]
  },
  {
   "cell_type": "code",
   "execution_count": null,
   "id": "smart-science",
   "metadata": {},
   "outputs": [],
   "source": [
    "def get_backbone(conf_path, input_tensor):\n",
    "    \"\"\"\n",
    "    Create backbone network based on given config\n",
    "    \"\"\"\n",
    "    conf = load_conf(str(conf_folder / (conf_path + \".yaml\")))\n",
    "    model = getattr(backbone, conf[\"name\"])(**conf[\"options\"], input_tensor=input_tensor)\n",
    "    return model"
   ]
  },
  {
   "cell_type": "code",
   "execution_count": 22,
   "id": "excited-innocent",
   "metadata": {},
   "outputs": [
    {
     "name": "stdout",
     "output_type": "stream",
     "text": [
      "WARNING:tensorflow:`input_shape` is undefined or non-square, or `rows` is not 224. Weights for input shape (224, 224) will be loaded as the default.\n"
     ]
    }
   ],
   "source": [
    "image = keras.Input(shape=[64,224,3], name=\"image\")\n",
    "base = keras.applications.MobileNetV3Large(input_tensor=image)\n"
   ]
  },
  {
   "cell_type": "code",
   "execution_count": 61,
   "id": "assisted-liability",
   "metadata": {},
   "outputs": [
    {
     "name": "stdout",
     "output_type": "stream",
     "text": [
      "KerasTensor(type_spec=TensorSpec(shape=(None, 4, 14, 112), dtype=tf.float32, name=None), name='expanded_conv_11/Add/add:0', description=\"created by layer 'expanded_conv_11/Add'\")\n",
      "KerasTensor(type_spec=TensorSpec(shape=(None, 1, 14, 7550), dtype=tf.float32, name=None), name='separable_conv2d_30/BiasAdd:0', description=\"created by layer 'separable_conv2d_30'\")\n",
      "KerasTensor(type_spec=TensorSpec(shape=(None, 14, 7550), dtype=tf.float32, name=None), name='logits/Squeeze:0', description=\"created by layer 'logits'\")\n"
     ]
    }
   ],
   "source": [
    "feature = base.get_layer('expanded_conv_11/Add').output\n",
    "print(feature)\n",
    "logits_ori = keras.layers.SeparableConv2D(7550, kernel_size=(4, 1),\n",
    "                                       strides=1, padding=\"valid\",\n",
    "                                       depthwise_initializer=\"he_normal\")(feature)\n",
    "print(logits_ori)\n",
    "logits = keras.layers.Lambda(lambda x: tf.squeeze(x, 1), name='logits')(logits_ori)\n",
    "# logits  = logits_ori\n",
    "print(logits)\n",
    "\n",
    "labels = keras.Input(shape=(None,), dtype=tf.int64, name='labels')\n",
    "label_lengths = keras.Input(shape=(), dtype=tf.int64, name='label_lengths')\n",
    "input_lengths = keras.Input(shape=(), dtype=tf.int64, name='input_lengths')\n",
    "    \n",
    "logits = CTCLayer()(labels, logits, input_lengths, label_lengths)\n",
    "model = keras.Model(inputs=[base.input, labels, input_lengths, label_lengths], outputs=logits)"
   ]
  },
  {
   "cell_type": "code",
   "execution_count": 59,
   "id": "everyday-legend",
   "metadata": {},
   "outputs": [
    {
     "name": "stdout",
     "output_type": "stream",
     "text": [
      "labels KerasTensor(type_spec=TensorSpec(shape=(None, None), dtype=tf.int64, name='labels'), name='labels', description=\"created by layer 'labels'\")\n",
      "logits KerasTensor(type_spec=TensorSpec(shape=(None, 14, 7550), dtype=tf.float32, name=None), name='logits/Squeeze:0', description=\"created by layer 'logits'\")\n",
      "input_lengths KerasTensor(type_spec=TensorSpec(shape=(None,), dtype=tf.int64, name='input_lengths'), name='input_lengths', description=\"created by layer 'input_lengths'\")\n",
      "label_lengths KerasTensor(type_spec=TensorSpec(shape=(None,), dtype=tf.int64, name='label_lengths'), name='label_lengths', description=\"created by layer 'label_lengths'\")\n"
     ]
    }
   ],
   "source": [
    "# class Param:\n",
    "#     def __init__(self,labels, logits, input_lengths, label_lengths):\n",
    "#         self.labels = labels\n",
    "#         self.logits = logits\n",
    "#         self.input_lengths = input_lengths\n",
    "#         self.label_lengths = label_lengths\n",
    "\n",
    "# param = Param(labels, logits, input_lengths, label_lengths)\n",
    "# for i in ('labels', 'logits', 'input_lengths', 'label_lengths'):\n",
    "#     print(i,getattr(param,i))\n"
   ]
  },
  {
   "cell_type": "code",
   "execution_count": 55,
   "id": "swiss-italy",
   "metadata": {},
   "outputs": [
    {
     "data": {
      "text/plain": [
       "<KerasTensor: shape=(None, 14, 7550) dtype=float32 (created by layer 'logits')>"
      ]
     },
     "execution_count": 55,
     "metadata": {},
     "output_type": "execute_result"
    }
   ],
   "source": [
    "param.logits"
   ]
  },
  {
   "cell_type": "code",
   "execution_count": null,
   "id": "atmospheric-seller",
   "metadata": {},
   "outputs": [],
   "source": [
    "model.summary()"
   ]
  },
  {
   "cell_type": "code",
   "execution_count": null,
   "id": "exclusive-peninsula",
   "metadata": {},
   "outputs": [],
   "source": [
    "# workspace/dense.release/conf/mobilev3_large_mini.yaml\n",
    "# conf_folder = Path('.').resolve().parent.parent / \"conf\"\n",
    "\n",
    "base = get_backbone(conf[\"backbone\"], input_tensor=image)\n",
    "feature = base.get_layer(conf[\"feature_layer\"]).output\n",
    "logits_ori = keras.layers.SeparableConv2D(conf[\"n_class\"], kernel_size=(4, 1),\n",
    "                                   strides=1, padding=\"valid\",\n",
    "                                   depthwise_initializer=conf[\"kernel_init\"])(feature)\n",
    "logits = keras.layers.Lambda(lambda x: tf.squeeze(x, 1), name='logits')(logits_ori)"
   ]
  },
  {
   "cell_type": "code",
   "execution_count": null,
   "id": "sufficient-builder",
   "metadata": {},
   "outputs": [],
   "source": [
    "keras.backend.clear_session()\n",
    "model = crnn(conf[\"options\"], train=False, infer_shape=(64, 1024, 3))"
   ]
  },
  {
   "cell_type": "code",
   "execution_count": null,
   "id": "destroyed-encyclopedia",
   "metadata": {},
   "outputs": [],
   "source": [
    "model.summary()"
   ]
  },
  {
   "cell_type": "code",
   "execution_count": null,
   "id": "distinguished-commons",
   "metadata": {},
   "outputs": [],
   "source": [
    "# model.save('./my_model.h5')\n",
    "model.output"
   ]
  },
  {
   "cell_type": "code",
   "execution_count": 211,
   "id": "architectural-polish",
   "metadata": {},
   "outputs": [
    {
     "data": {
      "text/plain": [
       "<matplotlib.image.AxesImage at 0x7fbff6dce880>"
      ]
     },
     "execution_count": 211,
     "metadata": {},
     "output_type": "execute_result"
    },
    {
     "data": {
      "image/png": "[encoded data removed]",
      "text/plain": [
       "<Figure size 432x288 with 1 Axes>"
      ]
     },
     "metadata": {
      "needs_background": "light"
     },
     "output_type": "display_data"
    }
   ],
   "source": [
    "import matplotlib.pyplot as plt\n",
    "import numpy as np\n",
    "HEIGHT = 64.\n",
    "\n",
    "img = tf.image.decode_jpeg(tf.io.read_file('/datasets/almex_insurance/combined_snow_elastic/972.jpg'),channels=3)\n",
    "img_shape = tf.cast(tf.shape(img), tf.float32)\n",
    "crop_max = 0.1\n",
    "# crop_ratio = tf.random.uniform(()) * crop_max\n",
    "crop_ratio = 1\n",
    "crop_h = img_shape[0] / (1 + crop_ratio)\n",
    "crop_w = tf.cast(img_shape[1], tf.int32) - tf.cast(crop_h * crop_ratio, tf.int32)\n",
    "crop_h = tf.cast(crop_h, tf.int32)\n",
    "img = tf.image.random_crop(img, (crop_h, crop_w, 3))\n",
    "# img = tf.image.random_flip_left_right(img)\n",
    "img_shape = tf.cast(tf.shape(img), tf.float32)\n",
    "# w = tf.cast(HEIGHT / img_shape[0] * img_shape[1], tf.int64)\n",
    "# img = tf.image.resize(img, (int(HEIGHT), w), method=tf.image.ResizeMethod.AREA)\n",
    "plt.imshow(img.numpy().astype(np.int))"
   ]
  },
  {
   "cell_type": "code",
   "execution_count": null,
   "id": "soviet-granny",
   "metadata": {},
   "outputs": [],
   "source": []
  },
  {
   "cell_type": "code",
   "execution_count": 182,
   "id": "bright-tsunami",
   "metadata": {},
   "outputs": [
    {
     "data": {
      "text/plain": [
       "<tf.Tensor: shape=(), dtype=float32, numpy=0.44277966>"
      ]
     },
     "execution_count": 182,
     "metadata": {},
     "output_type": "execute_result"
    }
   ],
   "source": [
    "tf.random.uniform(())"
   ]
  },
  {
   "cell_type": "code",
   "execution_count": null,
   "id": "nutritional-publisher",
   "metadata": {},
   "outputs": [],
   "source": [
    "img = tf.image.random_crop(img, (crop_h, crop_w, 3))"
   ]
  },
  {
   "cell_type": "code",
   "execution_count": null,
   "id": "equipped-flexibility",
   "metadata": {},
   "outputs": [],
   "source": []
  }
 ],
 "metadata": {
  "kernelspec": {
   "display_name": "Python 3",
   "language": "python",
   "name": "python3"
  },
  "language_info": {
   "codemirror_mode": {
    "name": "ipython",
    "version": 3
   },
   "file_extension": ".py",
   "mimetype": "text/x-python",
   "name": "python",
   "nbconvert_exporter": "python",
   "pygments_lexer": "ipython3",
   "version": "3.8.5"
  }
 },
 "nbformat": 4,
 "nbformat_minor": 5
}
